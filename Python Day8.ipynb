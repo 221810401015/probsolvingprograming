{
 "cells": [
  {
   "cell_type": "markdown",
   "metadata": {},
   "source": [
    "### Day Objectives\n",
    ".Python data structures\n",
    "    -Lists\n",
    "    -Tuples\n",
    "    -Dictionaries\n",
    " .Basic program sets on Data Sructures\n",
    " .Advanced Problem Set\n",
    " .Contact Application(Dictionary object)\n",
    " \n",
    " Data strucures :\n",
    " \n",
    " .To store , Search and Sort the Data"
   ]
  },
  {
   "cell_type": "markdown",
   "metadata": {},
   "source": [
    "### Python Data Structures\n",
    "### Lists\n",
    " -  It's one of the common data structures supported by python , separated by comma operator and enclosed in square brackets.\n",
    "   ex:\n",
    "    .list1=[1,8,9,10]\n",
    "    .list2=[\"Gitam\",12,30.5,\"Hyderabad\"]"
   ]
  },
  {
   "cell_type": "code",
   "execution_count": 3,
   "metadata": {},
   "outputs": [
    {
     "name": "stdout",
     "output_type": "stream",
     "text": [
      "[2, 5, 7, 8, 9]\n",
      "2\n",
      "5\n",
      "9\n",
      "8\n",
      "[9]\n",
      "[5, 7, 8]\n"
     ]
    }
   ],
   "source": [
    "lst=[2,5,7,8,9]\n",
    "print(lst)      #Access the entire list\n",
    "print(lst[0])  #Access the first list\n",
    "print(lst[1])  #Access the second item list\n",
    "print(lst[-1]) \n",
    "print(lst[-2]) \n",
    "print(lst[-1:])\n",
    "print(lst[1:4])"
   ]
  },
  {
   "cell_type": "code",
   "execution_count": 5,
   "metadata": {},
   "outputs": [
    {
     "name": "stdout",
     "output_type": "stream",
     "text": [
      "['Gitam', 'Python', 1989, 2002]\n",
      "['Gitam', 'Python', 1989, 2002]\n"
     ]
    }
   ],
   "source": [
    "#Update the list item values index (Direct Referening)\n",
    "li = [\"Gitam\",\"Python\",1989,2002]\n",
    "print(li)\n",
    "li[2]\n",
    "print(li)"
   ]
  },
  {
   "cell_type": "code",
   "execution_count": 9,
   "metadata": {},
   "outputs": [
    {
     "name": "stdout",
     "output_type": "stream",
     "text": [
      "['Gitam', 'Python']\n"
     ]
    },
    {
     "ename": "IndexError",
     "evalue": "list assignment index out of range",
     "output_type": "error",
     "traceback": [
      "\u001b[1;31m---------------------------------------------------------------------------\u001b[0m",
      "\u001b[1;31mIndexError\u001b[0m                                Traceback (most recent call last)",
      "\u001b[1;32m<ipython-input-9-bfa0da1203bf>\u001b[0m in \u001b[0;36m<module>\u001b[1;34m\u001b[0m\n\u001b[0;32m      1\u001b[0m \u001b[1;31m#delete the specific item in the list\u001b[0m\u001b[1;33m\u001b[0m\u001b[1;33m\u001b[0m\u001b[1;33m\u001b[0m\u001b[0m\n\u001b[0;32m      2\u001b[0m \u001b[0mprint\u001b[0m\u001b[1;33m(\u001b[0m\u001b[0mli\u001b[0m\u001b[1;33m)\u001b[0m\u001b[1;33m\u001b[0m\u001b[1;33m\u001b[0m\u001b[0m\n\u001b[1;32m----> 3\u001b[1;33m \u001b[1;32mdel\u001b[0m \u001b[0mli\u001b[0m\u001b[1;33m[\u001b[0m\u001b[1;36m2\u001b[0m\u001b[1;33m]\u001b[0m\u001b[1;33m\u001b[0m\u001b[1;33m\u001b[0m\u001b[0m\n\u001b[0m\u001b[0;32m      4\u001b[0m \u001b[0mprint\u001b[0m\u001b[1;33m(\u001b[0m\u001b[0mli\u001b[0m\u001b[1;33m)\u001b[0m\u001b[1;33m\u001b[0m\u001b[1;33m\u001b[0m\u001b[0m\n",
      "\u001b[1;31mIndexError\u001b[0m: list assignment index out of range"
     ]
    }
   ],
   "source": [
    "#delete the specific item in the list\n",
    "print(li)\n",
    "del li[2]\n",
    "print(li)"
   ]
  },
  {
   "cell_type": "code",
   "execution_count": 16,
   "metadata": {},
   "outputs": [
    {
     "name": "stdout",
     "output_type": "stream",
     "text": [
      "6\n",
      "[2, 5, 7, 8, 9, 2, 5, 7, 8, 9]\n",
      "False\n",
      "True\n",
      "1  2  3  4  5  6  "
     ]
    }
   ],
   "source": [
    "# Basic list Operations\n",
    "lst1 = [1,2,3,4,5,6]\n",
    "print(len(lst1))  #Len of the list\n",
    "print(lst*2)      #Repetation\n",
    "print(9 in lst1)  #list item is present or not\n",
    "print(5 in lst1)\n",
    "for x in range (len(lst1)):  #Accessing list item using iteration\n",
    "    print(lst1[x],end='  ')"
   ]
  },
  {
   "cell_type": "code",
   "execution_count": 23,
   "metadata": {},
   "outputs": [
    {
     "name": "stdout",
     "output_type": "stream",
     "text": [
      "1\n",
      "6\n",
      "21\n",
      "3.5\n",
      "4.333333333333333\n"
     ]
    }
   ],
   "source": [
    "#Function of the list\n",
    "lst1\n",
    "print(min(lst1))  # min item/ele in the list\n",
    "print(max(lst1))  # Max item/ele in the list\n",
    "print(sum(lst1))  # Sum of all ele in the list\n",
    "print(sum(lst1)/len(lst1)) # Avg of list ele\n",
    "print(sum(lst[1::2])/len(lst1[1::2])) # Avg of alternate nos"
   ]
  },
  {
   "cell_type": "code",
   "execution_count": 8,
   "metadata": {},
   "outputs": [
    {
     "data": {
      "text/plain": [
       "[1,\n",
       " 5,\n",
       " 6,\n",
       " 23,\n",
       " 23,\n",
       " 23,\n",
       " 24,\n",
       " 24,\n",
       " 24,\n",
       " 24,\n",
       " 24,\n",
       " 45,\n",
       " 45,\n",
       " 45,\n",
       " 56,\n",
       " 56,\n",
       " 56,\n",
       " 56,\n",
       " 123,\n",
       " 23,\n",
       " 45]"
      ]
     },
     "execution_count": 8,
     "metadata": {},
     "output_type": "execute_result"
    }
   ],
   "source": [
    "lst1\n",
    "lst1.append(24) # Adding a new element at the end of the list\n",
    "lst1\n",
    "lst1.insert(2,56) # Adding an ele at particular index \n",
    "lst1\n",
    "lst1.count(5)  # Return the value how many times the object repeated\n",
    "lst1.index(56)\n",
    "lst1.sort()  # Sorts the list in ascending order\n",
    "lst1\n",
    "lst1.pop()  #Remove the last ele from the list\n",
    "lst1\n",
    "lst1.pop(1)  #Remove an ele from a particular index\n",
    "lst2 = [123,23,45]\n",
    "lst1.extend(lst2) # Merge list 2 into list 1\n",
    "lst1\n"
   ]
  },
  {
   "cell_type": "code",
   "execution_count": 19,
   "metadata": {},
   "outputs": [
    {
     "data": {
      "text/plain": [
       "[1, 9, 7, 5, 3, 12, 13]"
      ]
     },
     "execution_count": 19,
     "metadata": {},
     "output_type": "execute_result"
    }
   ],
   "source": [
    "lst1 = [3,5,7,9,1]\n",
    "lst1.reverse()\n",
    "lst1\n",
    "lst2 = [11,12,13]\n",
    "lst1.extend(lst2)\n",
    "lst1\n",
    "lst1.remove(11)\n",
    "lst1"
   ]
  },
  {
   "cell_type": "code",
   "execution_count": 22,
   "metadata": {},
   "outputs": [
    {
     "data": {
      "text/plain": [
       "18"
      ]
     },
     "execution_count": 22,
     "metadata": {},
     "output_type": "execute_result"
    }
   ],
   "source": [
    "# Function to find the Second Large item from the list\n",
    "# Input : [1,19,6,2,8,18,3]\n",
    "# Output: 18\n",
    "def SecondLarge(li):\n",
    "    li.sort()\n",
    "    return li[-2]\n",
    "li = [1,19,6,2,8,18,3]\n",
    "SecondLarge(li)"
   ]
  },
  {
   "cell_type": "code",
   "execution_count": 28,
   "metadata": {},
   "outputs": [
    {
     "ename": "SyntaxError",
     "evalue": "invalid syntax (<ipython-input-28-3ffb309a4534>, line 7)",
     "output_type": "error",
     "traceback": [
      "\u001b[1;36m  File \u001b[1;32m\"<ipython-input-28-3ffb309a4534>\"\u001b[1;36m, line \u001b[1;32m7\u001b[0m\n\u001b[1;33m    def genericLeast()\u001b[0m\n\u001b[1;37m                      ^\u001b[0m\n\u001b[1;31mSyntaxError\u001b[0m\u001b[1;31m:\u001b[0m invalid syntax\n"
     ]
    }
   ],
   "source": [
    "# Function to find least item from the list\n",
    "# Input : [1,19,6,2,8,18,3]\n",
    "# Output : 2\n",
    "def secondleast(li):\n",
    "     li.sort()\n",
    "     return li[1]\n",
    "def genericLeast()\n",
    "li = [1,19,6,2,8,18,3]\n",
    "secondleast(li)"
   ]
  },
  {
   "cell_type": "markdown",
   "metadata": {},
   "source": [
    "### Searching Agorithm\n",
    " * Linear Search\n",
    " * Binary Search"
   ]
  },
  {
   "cell_type": "markdown",
   "metadata": {},
   "source": [
    "### Linear Search\n",
    "- Linear Search algorithm can be applied on Duplicate and Unique List\n",
    "- Unique List : All items of the list is appeared only once\n",
    "- Duplicate List : The items of the list can be appeared more than once "
   ]
  },
  {
   "cell_type": "code",
   "execution_count": 38,
   "metadata": {},
   "outputs": [
    {
     "data": {
      "text/plain": [
       "-1"
      ]
     },
     "execution_count": 38,
     "metadata": {},
     "output_type": "execute_result"
    }
   ],
   "source": [
    "# Function to search the data in a list\n",
    "# Search is found then return the index if not return -1\n",
    "def linearSearch1(li,tarItem):\n",
    "    for x in range(len(li)):\n",
    "        if li[x] == tarItem:\n",
    "            return x\n",
    "        return -1\n",
    "li = [1,19,6,2,8,18,3]\n",
    "linearSearch1(li,100)"
   ]
  },
  {
   "cell_type": "code",
   "execution_count": 43,
   "metadata": {},
   "outputs": [
    {
     "name": "stdout",
     "output_type": "stream",
     "text": [
      "1 4 8 "
     ]
    }
   ],
   "source": [
    "#Function \n",
    "#Input : [1,5,9,6,5,15,1,2,5],key=5 # Duplicate\n",
    "#OUTPUT : 1 4 8 \n",
    "def linearSearch(li,tarItem):\n",
    "    for x in range(len(li)):\n",
    "        if li[x] == tarItem:\n",
    "            print(x,end=\" \")\n",
    "    return\n",
    "li = [1,5,9,6,5,15,1,2,5]\n",
    "linearSearch(li,5)"
   ]
  },
  {
   "cell_type": "code",
   "execution_count": 51,
   "metadata": {},
   "outputs": [
    {
     "name": "stdout",
     "output_type": "stream",
     "text": [
      "!! !!!!! !!!!!!!!! "
     ]
    }
   ],
   "source": [
    "#Function\n",
    "# Input : List\n",
    "# Output sequence of characters\n",
    "# Test case\n",
    "# [1,5,9,6,5,15,1,2,5],tar=5 -- !! !!!!!  !!!!!!!!\n",
    "def linearSearch(li,tarItem):\n",
    "    for x in range(len(li)):\n",
    "        if li[x] == tarItem:\n",
    "            k = 0\n",
    "            while k!= x+1:\n",
    "                print(\"!\",end=\"\")\n",
    "                k=k+1\n",
    "            print(end=\" \")\n",
    "    return\n",
    "li = [1,5,9,6,5,15,1,2,5]\n",
    "linearSearch(li,5)\n",
    "            \n",
    "            "
   ]
  },
  {
   "cell_type": "code",
   "execution_count": 59,
   "metadata": {},
   "outputs": [
    {
     "data": {
      "text/plain": [
       "60"
      ]
     },
     "execution_count": 59,
     "metadata": {},
     "output_type": "execute_result"
    }
   ],
   "source": [
    "# Function\n",
    "# Input : List\n",
    "# output : Formatted\n",
    "# Test Case:\n",
    "# [12,2,45,9,18,15,36] -- 60\n",
    "# A List item which is perfectly multiple of 3 and 5\n",
    "def multipleno(li):\n",
    "    sum=0\n",
    "    for x in range(len(li)):\n",
    "        if li[x]%3==0 and li[x]%5==0:\n",
    "            \n",
    "            sum=sum+li[x]\n",
    "    return sum\n",
    "li = [12,2,45,9,18,15,36]\n",
    "multipleno(li)\n",
    "                "
   ]
  },
  {
   "cell_type": "code",
   "execution_count": 3,
   "metadata": {},
   "outputs": [
    {
     "name": "stdout",
     "output_type": "stream",
     "text": [
      "1 3 8 15 5 "
     ]
    }
   ],
   "source": [
    "# Function\n",
    "# Input : List\n",
    "# Output : Formatted Output\n",
    "# Test case:\n",
    "# [1,2,3,4,5] -- [1,3,8,15,5]\n",
    "# [6,5,2,8,2] -- [6,12,40,4,2]\n",
    "def linearSearch(li):\n",
    "    for x in range(len(li)):\n",
    "        if x==0  or x==len(li)-1:\n",
    "            print(li[x],end=\" \")\n",
    "        else:\n",
    "            print(li[x-1]*li[x+1],end=\" \")\n",
    "    return\n",
    "li=[1,2,3,4,5]\n",
    "linearSearch(li)"
   ]
  },
  {
   "cell_type": "code",
   "execution_count": 10,
   "metadata": {},
   "outputs": [
    {
     "name": "stdout",
     "output_type": "stream",
     "text": [
      "1 9 19 22 "
     ]
    }
   ],
   "source": [
    "# function\n",
    "# Input : List\n",
    "# Output : Formatted Output\n",
    "# Test Series :\n",
    "# [1,6,9,4,16,19,22]  == 1 9 19 22\n",
    "def linearSearch(li):\n",
    "    for x in range(len(li)):\n",
    "        if x==0 or x==len(li)-1:\n",
    "            print(li[x],end=\" \")\n",
    "        elif li[x-1]%2==0 and li[x+1]%2==0:\n",
    "             print(li[x],end=\" \")\n",
    "    return\n",
    "li = [1,6,9,4,16,19,22]\n",
    "linearSearch(li)       "
   ]
  },
  {
   "cell_type": "markdown",
   "metadata": {},
   "source": [
    "### Number to list\n",
    "* Input as number\n",
    "* Expected ouput will be list"
   ]
  },
  {
   "cell_type": "code",
   "execution_count": 11,
   "metadata": {},
   "outputs": [
    {
     "data": {
      "text/plain": [
       "[1, 4, 5, 6, 9]"
      ]
     },
     "execution_count": 11,
     "metadata": {},
     "output_type": "execute_result"
    }
   ],
   "source": [
    "#Function for Conversuion - Number to list\n",
    "# Input -- list\n",
    "# Output -- list\n",
    "#Test Cases :-\n",
    "#14569 -- [1,4,5,6,9]\n",
    "def Conversion(n):\n",
    "    li = []\n",
    "    while n!= 0:\n",
    "        r=n%10\n",
    "        li.append(r) \n",
    "        n=n//10\n",
    "    li.reverse()\n",
    "    return li\n",
    "Conversion(14569)"
   ]
  },
  {
   "cell_type": "markdown",
   "metadata": {},
   "source": [
    "# Function to count the occurences of a character in a string\n",
    "# \"Python Programming\", p-->2\n",
    "# \"Python Programming\", m-->2\n",
    "def countCharOccurances(s,c):\n",
    "    cnt=0\n",
    "    for ch in s:\n",
    "        if ch == c:\n",
    "            cnt+=1\n",
    "    return cnt\n",
    "def countCharOccurances1(s,c): #both functions gives the same output\n",
    "    return s.count(c)\n",
    "countCharOccurances(\"Python Programming\",'m')"
   ]
  },
  {
   "cell_type": "markdown",
   "metadata": {},
   "source": [
    "## String To list conversion\n",
    "* Input will be string\n",
    "* Expected output will be list"
   ]
  },
  {
   "cell_type": "code",
   "execution_count": 17,
   "metadata": {},
   "outputs": [
    {
     "data": {
      "text/plain": [
       "[1, 2, 3, 4, 5, 6]"
      ]
     },
     "execution_count": 17,
     "metadata": {},
     "output_type": "execute_result"
    }
   ],
   "source": [
    "#Functio to convert the string to list\n",
    "# Test case\n",
    "# \"1 2 3 4 5 6\" -- [1,2,3,4,5,6]\n",
    "def stringtolistconversion(s):\n",
    "    li = s.split()\n",
    "    numberslist = []\n",
    "    for i in li:\n",
    "        numberslist.append(int(i))\n",
    "    return numberslist\n",
    "s = \"1 2 3 4 5 6\"\n",
    "stringtolistconversion(s)"
   ]
  },
  {
   "cell_type": "markdown",
   "metadata": {},
   "source": [
    "### Sorting Algorithms:\n",
    "* Bubble Sort\n",
    "* selection Sort\n",
    "* Insertion Sort"
   ]
  },
  {
   "cell_type": "markdown",
   "metadata": {},
   "source": [
    "### Bubble Sort:\n",
    "* this algorithm compares the adj elements,if the first element is       greater\n",
    "* than second element then its required to swap the elements\n"
   ]
  },
  {
   "cell_type": "code",
   "execution_count": 19,
   "metadata": {},
   "outputs": [
    {
     "data": {
      "text/plain": [
       "[1, 19, 6, 18, 3, 25]"
      ]
     },
     "execution_count": 19,
     "metadata": {},
     "output_type": "execute_result"
    }
   ],
   "source": [
    "#Function to represent the bubble sort\n",
    "def bubbleSort(li):\n",
    "     for i in range(len(li)-1):\n",
    "        for j in range(len(li)-1):\n",
    "            if li[j] > li[j+1]:\n",
    "                li[j],li[j+1] = li[j+1],li[j]\n",
    "        return li\n",
    "li = [19,1,25,6,18,3]\n",
    "bubbleSort(li)"
   ]
  }
 ],
 "metadata": {
  "kernelspec": {
   "display_name": "Python 3",
   "language": "python",
   "name": "python3"
  },
  "language_info": {
   "codemirror_mode": {
    "name": "ipython",
    "version": 3
   },
   "file_extension": ".py",
   "mimetype": "text/x-python",
   "name": "python",
   "nbconvert_exporter": "python",
   "pygments_lexer": "ipython3",
   "version": "3.7.3"
  }
 },
 "nbformat": 4,
 "nbformat_minor": 2
}
